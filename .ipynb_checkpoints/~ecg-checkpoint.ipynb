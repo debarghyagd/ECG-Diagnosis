{
 "cells": [
  {
   "cell_type": "markdown",
   "metadata": {},
   "source": [
    "## Imports"
   ]
  },
  {
   "cell_type": "code",
   "execution_count": 4,
   "metadata": {},
   "outputs": [],
   "source": [
    "# ------------------------------------------- importing dependencies ----------------------------------------\n",
    "# import datetime\n",
    "import os\n",
    "# import random\n",
    "import numpy as np\n",
    "import pandas as pd\n",
    "import math\n",
    "import json\n",
    "from IPython.display import clear_output\n",
    "import sys,time\n",
    "import warnings\n",
    "import requests\n",
    "import pickle\n",
    "# !pip install neurokit2\n",
    "import neurokit2 as nk\n",
    "# !pip install -U scikit-learn\n",
    "# !pip install ts2vg\n",
    "\n",
    "from sklearn.preprocessing import MinMaxScaler, StandardScaler\n",
    "# from sklearn.tree import DecisionTreeClassifier\n",
    "from sklearn.ensemble import RandomForestClassifier#, ExtraTreesClassifier\n",
    "from sklearn.model_selection import GridSearchCV\n",
    "from sklearn.metrics import accuracy_score\n",
    "from scipy.io import loadmat\n",
    "# !pip install tensorflow\n",
    "# import tensorflow as tf\n",
    "from sklearn.model_selection import train_test_split\n",
    "\n",
    "# import matplotlib\n",
    "import matplotlib.pyplot as plt\n",
    "\n",
    "# from scipy import signal\n",
    "# from scipy.signal import medfilt\n",
    "# import pywt\n",
    "# from pywt import wavedec\n",
    "\n",
    "LIVE=True\n",
    "# --------------------------------------------- parent db directory ------------------------------------------\n",
    "DATASET_DIR = \"./WFDB_ShaoxingUniv\"\n",
    "BASE_DIR = \"./ECG_CSV_Selected\"\n",
    "RAW_DIR = \"./ECG_RAW_selected\"\n",
    "SNOMED_PATH = \"./SNOMED CT Codes.txt\"\n",
    "LABEL_PATH = \"./Labels.txt\"\n",
    "LIST_PATH = \"./edited_RECORDS.txt\"\n",
    "DF_PATH = \"./DATAFRAME.csv\"\n",
    "BASIC_SRATE = 500 #Hz\n",
    "TIME_PERIOD = 10 #secs"
   ]
  },
  {
   "cell_type": "markdown",
   "metadata": {},
   "source": [
    "# Modelling Class Definition\n",
    "#### Singular class to streamline data preprocessing and building diagnosis model"
   ]
  },
  {
   "cell_type": "code",
   "execution_count": 5,
   "metadata": {},
   "outputs": [],
   "source": [
    "class ECG_hobenaki:\n",
    "    def __init__(self, DATASET_DIR = DATASET_DIR, BASE_DIR =BASE_DIR, SNOMED_PATH = SNOMED_PATH, LABEL_PATH = LABEL_PATH, LIST_PATH = LIST_PATH, DF_PATH = DF_PATH, BASIC_SRATE = BASIC_SRATE, TIME_PERIOD = TIME_PERIOD):\n",
    "        self.DATASET_DIR = DATASET_DIR\n",
    "        self.BASE_DIR = BASE_DIR\n",
    "        self.RAW_DIR = RAW_DIR\n",
    "        self.SNOMED_PATH = SNOMED_PATH\n",
    "        self.LABEL_PATH = LABEL_PATH\n",
    "        self.LIST_PATH = LIST_PATH\n",
    "        self.DF_PATH = DF_PATH\n",
    "        self.TEST_PATH = './'\n",
    "        self.gURL='http://192.168.0.100:3000/ecg-classifier' #GET request url for 3rd party applications\n",
    "        self.pURL='http://192.168.0.100:3000/ecg-classifier' #POST request url for 3rd party applications\n",
    "        \n",
    "        #print('DATASET DIR ::',DATASET_DIR)\n",
    "        # g_DATA = '.mat'\n",
    "        # g_HEAD = '.hea'\n",
    "        # g_leads = ['I','II','III','aVR']\n",
    "        self.BASIC_SRATE = BASIC_SRATE #Hz\n",
    "        self.TIME_PERIOD = TIME_PERIOD #sec\n",
    "        # print('Basic sampling rate(Hz):', self.BASIC_SRATE)\n",
    "        \n",
    "        \n",
    "    #Tags and filters data points based on SNOMED codes availability (SNOMED CT Codes.txt --> restricts which CVDs to train on) \n",
    "    def gen_rec(self,verbose=True):\n",
    "        with warnings.catch_warnings():\n",
    "            warnings.simplefilter(\"ignore\", category=RuntimeWarning)\n",
    "            rec_list = os.listdir(self.DATASET_DIR)\n",
    "            rec_count = 0 \n",
    "            rec_count_expected = int(len(rec_list)/2)\n",
    "            # rec_name_sep = ','\n",
    "            rec_file = open('RECORDS.csv','w')\n",
    "            rec_file.write(str(rec_count_expected))\n",
    "            for f in rec_list:\n",
    "                if f.endswith('.hea'):\n",
    "                    rec_name = f[0:-4]\n",
    "                    rec_file.write(','+rec_name) #<---- use skiprows=1 in np.loadtxt()\n",
    "                    rec_count+=1\n",
    "            rec_file.close()\n",
    "            assert(rec_count_expected == rec_count) # should be equal\n",
    "            load_txt = np.loadtxt('./RECORDS.csv', delimiter=',', dtype='str')\n",
    "            rec_count = int(load_txt[0])\n",
    "            rec_list = load_txt[1:]\n",
    "            un_list = []\n",
    "            for i in rec_list:\n",
    "                with open(os.path.join(self.DATASET_DIR,i+'.hea')) as f:\n",
    "                    hlines=f.readlines()\n",
    "                    something = hlines[15][0:-1].split(\" \")[1]\n",
    "                    un_list+=list(something.split(\",\"))\n",
    "            un_list = list(set(un_list))\n",
    "            #print(un_list)\n",
    "            codeDict=dict()\n",
    "            with open(self.SNOMED_PATH,\"r\") as f1:\n",
    "                rL = f1.readlines()\n",
    "                for line in rL:\n",
    "                    x = line.strip().split(\"   \")\n",
    "                    codeDict[x[1]] = x[0] #getting snomed-codes\n",
    "            with open(self.LABEL_PATH,\"w\") as f2:\n",
    "                labels = dict()\n",
    "                for i in un_list:\n",
    "                    if i in codeDict.keys():\n",
    "                        labels[i] = codeDict[i] #populating labels for selected data\n",
    "#                         if LABEL_PATH != \"\":\n",
    "                        f2.write(i+\" : \"+codeDict[i]+\"\\n\") #writing it in a file\n",
    "            #getting the edited list of OK and labled patients\n",
    "            with open(self.LIST_PATH,\"w\") as nf:\n",
    "                edited_rec_list=[]\n",
    "                for i in rec_list:\n",
    "                    with open(os.path.join(self.DATASET_DIR,i+'.hea')) as f:\n",
    "                        hlines=f.readlines()\n",
    "                        codes =  list(hlines[15][0:-1].split(\" \")[1].split(\",\"))\n",
    "                        flag = True\n",
    "                        if codes == [\"426783006\"]:\n",
    "        #                     OK_count+=1\n",
    "                            flag = True                \n",
    "                        else:\n",
    "                            for c in codes:\n",
    "                                if c not in labels.keys():\n",
    "                                    flag = False\n",
    "        #                             NO_count+=1\n",
    "                                    break\n",
    "                        if flag == True:\n",
    "                            edited_rec_list.append(i)\n",
    "#                             if LIST_PATH != \"\":\n",
    "                            nf.write(i+\"\\n\")\n",
    "            if verbose:\n",
    "                print(\"TOTAL RECORDS :: \",rec_count)\n",
    "                print(\"UNIQUE CONDITIONS ::\",len(un_list))\n",
    "                print(\"AVAILABLE CODES\",len(codeDict.keys()))\n",
    "                print(\"NET RECORDS ::\",len(edited_rec_list))    \n",
    "        return edited_rec_list\n",
    "\n",
    "\n",
    "    #Preprocesses raw ECG signal data and identifies R-Peaks in pulse (PQRST) intervals \n",
    "    def get_points(self,df_raw,collect=False,extra=True):    \n",
    "        with warnings.catch_warnings():\n",
    "            warnings.simplefilter(\"ignore\", category=RuntimeWarning)\n",
    "            ecg_signal=nk.ecg_clean(df_raw,sampling_rate=self.BASIC_SRATE)\n",
    "            rpeaks = nk.ecg_peaks(ecg_signal, correct_artifacts=True, sampling_rate=self.BASIC_SRATE)[1][\"ECG_R_Peaks\"].tolist()\n",
    "            waves_dwt = nk.ecg_delineate(ecg_signal, rpeaks, sampling_rate=self.BASIC_SRATE, method=\"dwt\", show=True, show_type='peaks')[1]\n",
    "            print(waves_dwt)\n",
    "            points = dict()\n",
    "            for key in waves_dwt.keys():\n",
    "                points[key] = [i for i in waves_dwt[key] if math.isnan(i) != True]\n",
    "                points['ECG_R_Peaks'] = rpeaks\n",
    "            points['Heart_Rate'] = nk.ecg_rate(rpeaks,sampling_rate=self.BASIC_SRATE)\n",
    "            if collect:\n",
    "                with open(\"./Points_Info.txt\", \"a\") as f:\n",
    "                    f.write(rec[:-4]+\"\\n\")\n",
    "                    for i in points.keys():\n",
    "                        f.write(i+\" : \"+str(points[i])+\"\\n\")\n",
    "                    f.write(\"\\n\\n\")\n",
    "            if extra:\n",
    "                nk.signal_plot(nk.ecg_rsp(ecg_rate, sampling_rate=BASIC_SRATE))\n",
    "            \n",
    "        return points,ecg_signal\n",
    "    \n",
    "    #Performs feature engineering and generates train-(or test-)able dataframes\n",
    "    def get_df(self,samples=-1,raw=True,collect=True,read=True):\n",
    "        with warnings.catch_warnings():\n",
    "            warnings.simplefilter(\"ignore\", category=RuntimeWarning)\n",
    "            _path=self.BASE_DIR\n",
    "            raw_path=self.RAW_DIR\n",
    "            if read:\n",
    "                with open(self.LIST_PATH) as f:\n",
    "                    rec_list=f.readlines()\n",
    "            else:\n",
    "                rec_list=self.gen_rec()\n",
    "            rec_list= rec_list if samples==-1 else rec_list[:samples]\n",
    "            print(rec_list)\n",
    "            _tot=len(rec_list)\n",
    "            _cur=0\n",
    "            dataDict = {k:[] for k in [\"P_val\",\"T_val\",\"R_val\",\"R_std\",\"P_dur\",\"T_dur\",\"QRS_Complex\",\"PR_itvl\",\"ST_itvl\",\"QT_itvl\",\"QRS_perd\",\"Heart_Rate\",\"Arrhythmic_Anomaly\",\"Structural_Anomaly\",\"Scecondary_Anomaly\",\"Uncharacterised_Anomaly\"]}\n",
    "            for rec in rec_list:\n",
    "                fpath=raw_path+'/'+rec.strip()\n",
    "                if raw:\n",
    "                    f = loadmat(fpath+'.mat')\n",
    "                    df_raw=pd.DataFrame(f['val']).T[1]\n",
    "                else:\n",
    "                    try:\n",
    "                        fpath=_path+'/'+rec.strip()\n",
    "                        df_raw=pd.read_csv(fpath+'.csv')['II']\n",
    "                    except Exception as e:\n",
    "                        f= open('./ERROR.txt','a')\n",
    "                        f.write(rec.strip()+' : '+str(e)+'\\n')\n",
    "                        f.close\n",
    "                        continue\n",
    "                try:\n",
    "#                     print(df_raw)\n",
    "                    points,ecg_signal =self.get_points(df_raw)\n",
    "#                     print(points)\n",
    "                except Exception as ex:\n",
    "                    f= open('./ERROR.txt','a')\n",
    "                    f.write(rec.strip()+' : '+str(ex)+'\\n')\n",
    "                    f.close\n",
    "                    continue\n",
    "                with open(fpath+\".hea\",'r') as f:\n",
    "                    Dx = f.readlines()[15][0:-1].split(\" \")[1].split(\",\")\n",
    "                    dataDict[\"P_val\"].append(np.mean([ecg_signal[i] for i in points['ECG_P_Peaks']]))\n",
    "                    dataDict[\"T_val\"].append(np.mean([ecg_signal[i] for i in points['ECG_T_Peaks']]))\n",
    "                    dataDict[\"R_val\"].append(np.mean([ecg_signal[i] for i in points['ECG_R_Peaks']]))\n",
    "                    dataDict[\"R_std\"].append(np.std([ecg_signal[i] for i in points['ECG_R_Peaks']]))\n",
    "                    dataDict[\"P_dur\"].append(np.mean([(i[0]-i[-1])*0.002 for i in zip(points['ECG_P_Offsets'],points['ECG_P_Onsets'])]))\n",
    "                    dataDict[\"T_dur\"].append(np.mean([(i[0]-i[-1])*0.002 for i in zip(points['ECG_T_Offsets'],points['ECG_T_Onsets'])]))\n",
    "                    dataDict[\"QRS_Complex\"].append(np.mean([(i[0]-i[-1])*0.002 for i in zip(points['ECG_R_Offsets'],points['ECG_R_Onsets'])]))\n",
    "                    dataDict[\"PR_itvl\"].append(np.mean([(i[0]-i[-1])*0.002 for i in zip(points['ECG_R_Onsets'],points['ECG_P_Onsets'])]))\n",
    "                    dataDict[\"ST_itvl\"].append(np.mean([(i[0]-i[-1])*0.002 for i in zip(points['ECG_T_Onsets'],points['ECG_R_Offsets'])]))\n",
    "                    dataDict[\"QT_itvl\"].append(np.mean([(i[0]-i[-1])*0.002 for i in zip(points['ECG_T_Offsets'],points['ECG_R_Onsets'])]))\n",
    "                    dataDict[\"QRS_perd\"].append(np.mean([(points[\"ECG_R_Peaks\"][i]-points[\"ECG_R_Peaks\"][i-1])*0.002 for i in range(1,len(points['ECG_R_Peaks']))]))\n",
    "                    dataDict[\"Heart_Rate\"].append(np.mean(points['Heart_Rate']))\n",
    "                    if set(Dx).intersection(set(['164889003','426761007', '713422000','164890007', '111975006', '164896001', '164947007', '49578007']))==set():\n",
    "                        dataDict[\"Arrhythmic_Anomaly\"].append(0)\n",
    "                    else:\n",
    "                        dataDict[\"Arrhythmic_Anomaly\"].append(1)\n",
    "                    if set(Dx).intersection(set(['164865005','55930002', '164873001','164917005']))==set():\n",
    "                        dataDict[\"Structural_Anomaly\"].append(0)\n",
    "                    else:\n",
    "                        dataDict[\"Structural_Anomaly\"].append(1)\n",
    "                    if set(Dx).intersection(set(['59931005', '164912004', '164917005']))==set():\n",
    "                        dataDict[\"Scecondary_Anomaly\"].append(0)\n",
    "                    else:\n",
    "                        dataDict[\"Scecondary_Anomaly\"].append(1)\n",
    "                    if set(Dx).intersection(set(['164934002','426995002','195101003','39732003', '39732003', '47665007','61721007','164937009']))==set():\n",
    "                        dataDict[\"Uncharacterised_Anomaly\"].append(0)\n",
    "                    else:\n",
    "                        dataDict[\"Uncharacterised_Anomaly\"].append(1)\n",
    "                _cur+=1\n",
    "                _pctg=int(np.round(_cur/_tot*100))\n",
    "                clear_output(wait=True)\n",
    "                print(\"Processed:\\t[\"+\"#\"*(_pctg//4)+\" \"*(25-_pctg//4)+\"]\\t\"+str(_pctg)+\"%\")\n",
    "    #                 sys.stdout.flush()\n",
    "            if collect:\n",
    "                df = pd.DataFrame(dataDict)\n",
    "                df.to_csv(self.DF_PATH)\n",
    "        return(df)\n",
    "    \n",
    "    \n",
    "    \n",
    "    #For visualizing raw ECG signals\n",
    "    def ecg_viz(self,PATH,raw=False):\n",
    "        with warnings.catch_warnings():\n",
    "            warnings.simplefilter(\"ignore\", category=RuntimeWarning)\n",
    "            if raw:\n",
    "                f = loadmat(PATH)\n",
    "                df_=pd.DataFrame(f['val']).T\n",
    "                att=1\n",
    "            else:\n",
    "                df_= pd.read_csv(PATH)\n",
    "                att='II'\n",
    "    #         df[\"ECG\"].plot()\n",
    "            nk.ecg_plot(nk.ecg_process(df_[att])[0], sampling_rate=self.BASIC_SRATE, show_type='default')\n",
    "\n",
    "        \n",
    "    #Generates multi-labelled target(s) for sample data\n",
    "    def df_classes(self,read=True):\n",
    "        with warnings.catch_warnings():\n",
    "            warnings.simplefilter(\"ignore\", category=RuntimeWarning)\n",
    "            if read:\n",
    "                df=pd.read_csv(self.DF_PATH)\n",
    "                df.drop(['Unnamed: 0'],axis=1,inplace=True)\n",
    "            else:\n",
    "                df=self.get_df()                \n",
    "            Y = []\n",
    "            # print(df.shape())\n",
    "            for i in range(df.shape[0]):\n",
    "                Y.append(str(df.iloc[i,-4])+str(df.iloc[i,-3])+str(df.iloc[i,-2])+str(df.iloc[i,-1]))\n",
    "            for i in ['0','1']:\n",
    "                for j in ['0','1']:\n",
    "                    for k in ['0','1']:\n",
    "                        for l in ['0','1']:\n",
    "                            x=i+j+k+l\n",
    "                            print(x,Y.count(x))\n",
    "                            \n",
    "    #Performs Train-Test-Splitting and Trains Model(Random Forest)                        \n",
    "    def ml_train(self,seed=0,read=True):\n",
    "#         with warnings.catch_warnings():\n",
    "#             warnings.simplefilter(\"ignore\", category=RuntimeWarning)\n",
    "        if read:\n",
    "            df=pd.read_csv(self.DF_PATH)\n",
    "            df.drop(['Unnamed: 0'],axis=1,inplace=True)\n",
    "        else:\n",
    "            df = self.get_df(read=False)\n",
    "        X=df.iloc[:,:-4].values\n",
    "        o=[set(i) for i in np.isnan(X)]\n",
    "        o_=[i for i in range(len(o)) if o[i] == {False,True}]\n",
    "#         print(o_[:5])\n",
    "        df.drop(df.index[o_],inplace=True)\n",
    "        df.to_csv('./DF_edited.csv')\n",
    "        X=df.iloc[:,:-4].values.tolist()\n",
    "        Y=df.iloc[:,-4:].values.tolist()\n",
    "        self.X_train,self.X_test,self.Y_train,self.Y_test=train_test_split(X,Y,test_size=0.3,random_state=seed)\n",
    "        self.reading=df.iloc[4,:-4].values.tolist()\n",
    "#         print(self.reading)\n",
    "#         self.X_train,self.X_validate,self.Y_train,self.Y_validate=train_test_split(X_train,Y_train,test_size=0.2,random_state=seed)\n",
    "        clf = RandomForestClassifier(oob_score=True,n_jobs=-1,class_weight='balanced_subsample',random_state=seed)#n_estimators=200,max_features=None,oob_score=True,\n",
    "        clf.fit(self.X_train,self.Y_train)\n",
    "        print(\"Model Accuracy :\",np.round(clf.score(self.X_test,self.Y_test)*100,2),\"%\")\n",
    "        self.model = clf\n",
    "#         parameters = {\n",
    "#             'n_estimators' : [25,50,100,125,150,200,225,250],\n",
    "#             \"criterion\" : [\"gini\", \"entropy\", \"log_loss\"],\n",
    "#             \"max_depth\" : [None,2,4,6,8,10,12,14,16,18,20],\n",
    "#             \"max_features\" : [\"sqrt\", \"log2\", None],\n",
    "#             \"bootstrap\" : [True,False],\n",
    "#             \"oob_score\" : [True,False]\n",
    "#         }\n",
    "        parameters = {\n",
    "                'n_estimators' : [100,150,200],\n",
    "                'criterion' : [\"gini\", \"entropy\", \"log_loss\"],\n",
    "                'max_depth' : [10,15,None],\n",
    "                'max_features' : [\"sqrt\", \"log2\",None],\n",
    "        }\n",
    "#         clf_ = GridSearchCV(clf,parameters,scoring=accuacy_score,n_jobs=-1,oob_score=True,return_train_score=True)\n",
    "#         clf_.fit(self.X_train,self.Y_train)\n",
    "#         print(\"Model Accuracy :\",np.round(clf_.score(self.X_test,self.Y_test)*100,2),\"%\")  \n",
    "#         self.model = clf_.best_estimator_\n",
    "        \n",
    "#         x = clf_.cv_results_['rank_test_score']\n",
    "#         y = clf_.cv_results_['mean_test_score']\n",
    "#         plt.bar(x, y)\n",
    "#         plt.xlabel('Model Variation')\n",
    "#         plt.ylabel('Score')\n",
    "#         plt.title('Hyper-parm Tuning')\n",
    "#         plt.show()\n",
    "\n",
    "#         print(clf_.cv_results_)\n",
    "        pickle.dump(self.model, open('./model.sav', 'wb'))\n",
    "        \n",
    "    #For testing unseen data on trained model    \n",
    "    def ml_test(self,live=False):\n",
    "        if live:\n",
    "            signal_raw=[]\n",
    "    #         for i in range(2000):\n",
    "            input_=requests.get(self.gURL).text\n",
    "            j_=json.loads(input_)\n",
    "            signal_raw = [j_[i] for i in j_.keys()]\n",
    "    #         signal_raw+=j_.lstrip('{\"ECG\": ').rstrip('}').split(', \"ECG\": ')\n",
    "            points,ecg_signal=self.get_points(signal_raw,False)\n",
    "            dataDict = {k:[] for k in [\"P_val\",\"T_val\",\"R_val\",\"R_std\",\"P_dur\",\"T_dur\",\"QRS_Complex\",\"PR_itvl\",\"ST_itvl\",\"QT_itvl\",\"QRS_perd\",\"Heart_Rate\"]}\n",
    "            dataDict[\"P_val\"].append(np.mean([ecg_signal[i] for i in points['ECG_P_Peaks']]))\n",
    "            dataDict[\"T_val\"].append(np.mean([ecg_signal[i] for i in points['ECG_T_Peaks']]))\n",
    "            dataDict[\"R_val\"].append(np.mean([ecg_signal[i] for i in points['ECG_R_Peaks']]))\n",
    "            dataDict[\"R_std\"].append(np.std([ecg_signal[i] for i in points['ECG_R_Peaks']]))\n",
    "            dataDict[\"P_dur\"].append(np.mean([(i[0]-i[-1])*0.002 for i in zip(points['ECG_P_Offsets'],points['ECG_P_Onsets'])]))\n",
    "            dataDict[\"T_dur\"].append(np.mean([(i[0]-i[-1])*0.002 for i in zip(points['ECG_T_Offsets'],points['ECG_T_Onsets'])]))\n",
    "            dataDict[\"QRS_Complex\"].append(np.mean([(i[0]-i[-1])*0.002 for i in zip(points['ECG_R_Offsets'],points['ECG_R_Onsets'])]))\n",
    "            dataDict[\"PR_itvl\"].append(np.mean([(i[0]-i[-1])*0.002 for i in zip(points['ECG_R_Onsets'],points['ECG_P_Onsets'])]))\n",
    "            dataDict[\"ST_itvl\"].append(np.mean([(i[0]-i[-1])*0.002 for i in zip(points['ECG_T_Onsets'],points['ECG_R_Offsets'])]))\n",
    "            dataDict[\"QT_itvl\"].append(np.mean([(i[0]-i[-1])*0.002 for i in zip(points['ECG_T_Offsets'],points['ECG_R_Onsets'])]))\n",
    "            dataDict[\"QRS_perd\"].append(np.mean([(points[\"ECG_R_Peaks\"][i]-points[\"ECG_R_Peaks\"][i-1])*0.002 for i in range(1,len(points['ECG_R_Peaks']))]))\n",
    "            dataDict[\"Heart_Rate\"].append(np.mean(points['Heart_Rate']))\n",
    "    #         print(dataDict)\n",
    "            X = pd.DataFrame(dataDict)\n",
    "            X = X.values.tolist()\n",
    "        else:\n",
    "#             X = self.reading\n",
    "            X=requests.get('http://127.0.0.1:8080/').json()['message']\n",
    "#             model=self.model\n",
    "        model = pickle.load(open('./model.sav', 'rb'))\n",
    "        results = model.predict([X])[0]\n",
    "        labels=[\"Arrhythmic_Beat\",\"Structural_Condition\",\"Scecondary_Causality\",\"Uncharacterised_Anomaly\"]\n",
    "        temp=' '.join([l*i for l,i in zip(labels,results)])\n",
    "#         print(temp.strip().split(' '))\n",
    "        if temp.strip().split(' ')==['']:\n",
    "            suggestion=\"Cheers to a healthy heart!\"\n",
    "        elif len(temp.strip().split(' '))==1:\n",
    "            suggestion=\"Try to be less stressed and care for your health.\"\n",
    "        elif len(temp.strip().split(' '))==2:\n",
    "            suggestion=\"Perhaps start looking for a professional opinion.\"\n",
    "        else:\n",
    "            suggestion=\"Seek help immediately!\"\n",
    "        data_=json.dumps({\"Abnormalities\":temp.strip(), \"Remarks\":suggestion}, indent=4)\n",
    "        print(data_)\n",
    "        if live:\n",
    "            print(\"OK :\",requests.post(self.pURL,data=data_, headers={'Content-type': 'application/json'}).ok,\"\")\n",
    "#         time.sleep(10)\n",
    "#     def driver(self,live=False):\n",
    "#         with warnings.catch_warnings():\n",
    "#             warnings.simplefilter(\"ignore\", category=RuntimeWarning)\n",
    "#             self.ml_train()\n",
    "# #             self.ml_test(live)\n",
    "            "
   ]
  },
  {
   "cell_type": "markdown",
   "metadata": {},
   "source": [
    "# Training & Testing the Model"
   ]
  },
  {
   "cell_type": "code",
   "execution_count": 6,
   "metadata": {
    "scrolled": true
   },
   "outputs": [],
   "source": [
    "obj = ECG_hobenaki() #Instantiating diagnosis-class object"
   ]
  },
  {
   "cell_type": "code",
   "execution_count": 7,
   "metadata": {
    "scrolled": true
   },
   "outputs": [
    {
     "name": "stdout",
     "output_type": "stream",
     "text": [
      "Model Accuracy : 71.95 %\n"
     ]
    }
   ],
   "source": [
    "obj.ml_train() #Training Model"
   ]
  },
  {
   "cell_type": "code",
   "execution_count": 13,
   "metadata": {
    "scrolled": true
   },
   "outputs": [
    {
     "name": "stdout",
     "output_type": "stream",
     "text": [
      "{\n",
      "    \"Abnormalities\": \"\",\n",
      "    \"Remarks\": \"Cheers to a healthy heart!\"\n",
      "}\n"
     ]
    }
   ],
   "source": [
    "obj.ml_test() #Testing model on unseen data"
   ]
  },
  {
   "cell_type": "code",
   "execution_count": 9,
   "metadata": {},
   "outputs": [
    {
     "name": "stdout",
     "output_type": "stream",
     "text": [
      "['Arrhythmic_Beat']\n",
      "{\n",
      "    \"Abnormalities\": \"Arrhythmic_Beat\",\n",
      "    \"Remarks\": \"Try to be less stressed and care for your health.\"\n",
      "}\n",
      "OK : True \n"
     ]
    },
    {
     "data": {
      "image/png": "[encoded data removed]",
      "text/plain": [
       "<Figure size 432x288 with 1 Axes>"
      ]
     },
     "metadata": {
      "needs_background": "light"
     },
     "output_type": "display_data"
    }
   ],
   "source": [
    "obj.ml_test(LIVE) #Testing model on 3rd party application reading"
   ]
  },
  {
   "cell_type": "code",
   "execution_count": null,
   "metadata": {},
   "outputs": [],
   "source": []
  },
  {
   "cell_type": "code",
   "execution_count": null,
   "metadata": {},
   "outputs": [],
   "source": []
  },
  {
   "cell_type": "code",
   "execution_count": null,
   "metadata": {},
   "outputs": [],
   "source": []
  },
  {
   "cell_type": "code",
   "execution_count": null,
   "metadata": {},
   "outputs": [],
   "source": []
  },
  {
   "cell_type": "code",
   "execution_count": null,
   "metadata": {},
   "outputs": [],
   "source": []
  },
  {
   "cell_type": "markdown",
   "metadata": {},
   "source": [
    "#### Testing 3rd Party Connection "
   ]
  },
  {
   "cell_type": "code",
   "execution_count": null,
   "metadata": {},
   "outputs": [],
   "source": [
    "_=pd.read_csv('./ECG_CSV_Selected/JS00036.csv')['II'].values.tolist()\n",
    "with open(\"./JS00036.json\", \"w\") as outfile:\n",
    "    json.dump({str(i):_[i] for i in range(len(_))}, outfile)\n",
    "\n",
    "#         print(L)"
   ]
  },
  {
   "cell_type": "code",
   "execution_count": null,
   "metadata": {},
   "outputs": [],
   "source": []
  },
  {
   "cell_type": "code",
   "execution_count": null,
   "metadata": {},
   "outputs": [],
   "source": [
    "with open(\"./JS00036.json\", \"r\") as F:\n",
    "    L = F.readline().lstrip('{').rstrip('}').split(', ')\n",
    "L_=[]\n",
    "for i in L:\n",
    "    L_.append(i.split(': ')[1])\n",
    "for i range(0,len(L_),5):\n",
    "    tmp=L_[i:i+5]\n",
    "    X_=\"{}\"\n",
    "    for j in range(len(tmp)):\n",
    "        X_=X_[:-1]+\"ECG: \"+X_[-1]\n",
    "print(L_)"
   ]
  },
  {
   "cell_type": "code",
   "execution_count": null,
   "metadata": {},
   "outputs": [],
   "source": [
    "_=pd.read_csv('./ECG_CSV_Selected/JS00008.csv')['II'].values.tolist()\n",
    "print(_)\n",
    "with open(\"./JS00008.json\", \"w\") as outfile:\n",
    "    temp_={\"ECG\":i for i in _}\n",
    "    print(temp_)\n",
    "    json.dump(temp_, outfile)\n",
    "    \n",
    "_=pd.read_csv('./ECG_CSV_Selected/JS00036.csv')['II'].values.tolist()\n",
    "with open(\"./JS00036.json\", \"w\") as outfile:\n",
    "    json.dump({\"ECG\":_[i] for i in range(len(_))}, outfile)"
   ]
  },
  {
   "cell_type": "code",
   "execution_count": null,
   "metadata": {},
   "outputs": [],
   "source": [
    "fpath=RAW_DIR+'/'+'JS00008'\n",
    "f = loadmat(fpath+'.mat')\n",
    "df_raw=pd.DataFrame(f['val']).T[1]\n",
    "print(df_raw)\n",
    "# print(np.min(df_raw),np.max(df_raw))\n",
    "scaler = StandardScaler()#feature_range=(0, 1))\n",
    "scaler.fit_transform([df_raw])"
   ]
  },
  {
   "cell_type": "code",
   "execution_count": null,
   "metadata": {},
   "outputs": [],
   "source": [
    "import flask\n",
    "from flask import Flask, jsonify\n",
    "\n",
    "app = Flask(__name__)\n",
    "\n",
    "@app.route('/', methods=['GET'])\n",
    "def handle_get_request():\n",
    "    # Handle the GET request\n",
    "    response = {'message': [75.97590036468894, 86.98580872111783, 552.4224999322945, 33.287520094430775, 0.1016666666666666, 0.1005, 0.107, 0.1413333333333333, 0.1903333333333333, 0.3978333333333333, 0.7870909090909091, 76.23266457763836]}\n",
    "    return jsonify(response)\n",
    "\n",
    "if __name__ == '__main__':\n",
    "    app.run(host='127.0.0.1', port='8080')\n"
   ]
  },
  {
   "cell_type": "code",
   "execution_count": null,
   "metadata": {},
   "outputs": [],
   "source": []
  },
  {
   "cell_type": "code",
   "execution_count": null,
   "metadata": {},
   "outputs": [],
   "source": []
  },
  {
   "cell_type": "code",
   "execution_count": null,
   "metadata": {},
   "outputs": [],
   "source": []
  },
  {
   "cell_type": "code",
   "execution_count": null,
   "metadata": {},
   "outputs": [],
   "source": []
  },
  {
   "cell_type": "code",
   "execution_count": null,
   "metadata": {},
   "outputs": [],
   "source": []
  },
  {
   "cell_type": "markdown",
   "metadata": {},
   "source": [
    "## Experimenting with Alternative ML Models"
   ]
  },
  {
   "cell_type": "markdown",
   "metadata": {},
   "source": [
    "### Setting up baseline estimator with XGBoost Default classfier on MultiLabelled Data"
   ]
  },
  {
   "cell_type": "code",
   "execution_count": 9,
   "metadata": {},
   "outputs": [
    {
     "name": "stdout",
     "output_type": "stream",
     "text": [
      "F1-Score on test data: 84.1%\n"
     ]
    }
   ],
   "source": [
    "import numpy as np\n",
    "import pandas as pd\n",
    "import xgboost as xgb\n",
    "from sklearn.datasets import make_multilabel_classification\n",
    "from sklearn.preprocessing import StandardScaler\n",
    "from sklearn.model_selection import train_test_split\n",
    "from sklearn.metrics import f1_score\n",
    "\n",
    "\n",
    "# X, y = make_multilabel_classification(n_samples=11217, n_features=12, n_classes=4, n_labels=2,\n",
    "#                                       allow_unlabeled=False, random_state=0)\n",
    "# X = scaler.fit_transform(X)\n",
    "scaler = StandardScaler()\n",
    "df = pd.read_csv('./DF_edited.csv')\n",
    "df.drop(['Unnamed: 0'],axis=1,inplace=True)\n",
    "X=pd.DataFrame(scaler.fit_transform(pd.DataFrame(df.iloc[:,:-4].values.tolist())))\n",
    "Y=pd.DataFrame(df.iloc[:,-4:].values.tolist())\n",
    "\n",
    "# split dataset into training and test set\n",
    "# X_train, X_test, y_train, y_test = train_test_split(X, y, test_size=0.2, random_state=0)\n",
    "X_train, X_test, y_train, y_test = train_test_split(X, Y, test_size=0.2, random_state=0)\n",
    "\n",
    "clf = xgb.XGBClassifier(objective='binary:logistic',tree_method=\"hist\", learning_rate=0.1)\n",
    "clf.fit(X_train, y_train)\n",
    "print('F1-Score on test data: {:.1f}%'.format(f1_score(y_test, clf.predict(X_test), average='samples', zero_division=np.nan)*100))"
   ]
  },
  {
   "cell_type": "code",
   "execution_count": 10,
   "metadata": {
    "scrolled": true
   },
   "outputs": [
    {
     "data": {
      "text/plain": [
       "{'objective': 'binary:logistic',\n",
       " 'use_label_encoder': None,\n",
       " 'base_score': None,\n",
       " 'booster': None,\n",
       " 'callbacks': None,\n",
       " 'colsample_bylevel': None,\n",
       " 'colsample_bynode': None,\n",
       " 'colsample_bytree': None,\n",
       " 'early_stopping_rounds': None,\n",
       " 'enable_categorical': False,\n",
       " 'eval_metric': None,\n",
       " 'feature_types': None,\n",
       " 'gamma': None,\n",
       " 'gpu_id': None,\n",
       " 'grow_policy': None,\n",
       " 'importance_type': None,\n",
       " 'interaction_constraints': None,\n",
       " 'learning_rate': 0.1,\n",
       " 'max_bin': None,\n",
       " 'max_cat_threshold': None,\n",
       " 'max_cat_to_onehot': None,\n",
       " 'max_delta_step': None,\n",
       " 'max_depth': None,\n",
       " 'max_leaves': None,\n",
       " 'min_child_weight': None,\n",
       " 'missing': nan,\n",
       " 'monotone_constraints': None,\n",
       " 'n_estimators': 100,\n",
       " 'n_jobs': None,\n",
       " 'num_parallel_tree': None,\n",
       " 'predictor': None,\n",
       " 'random_state': None,\n",
       " 'reg_alpha': None,\n",
       " 'reg_lambda': None,\n",
       " 'sampling_method': None,\n",
       " 'scale_pos_weight': None,\n",
       " 'subsample': None,\n",
       " 'tree_method': 'hist',\n",
       " 'validate_parameters': None,\n",
       " 'verbosity': None}"
      ]
     },
     "execution_count": 10,
     "metadata": {},
     "output_type": "execute_result"
    }
   ],
   "source": [
    "clf.get_params()"
   ]
  },
  {
   "cell_type": "code",
   "execution_count": null,
   "metadata": {},
   "outputs": [],
   "source": []
  },
  {
   "cell_type": "markdown",
   "metadata": {},
   "source": [
    "### XGBoost with MultiOutputClassifier"
   ]
  },
  {
   "cell_type": "code",
   "execution_count": 7,
   "metadata": {},
   "outputs": [
    {
     "name": "stdout",
     "output_type": "stream",
     "text": [
      "F1-Score on test data: 84.4%\n"
     ]
    }
   ],
   "source": [
    "import pandas as pd\n",
    "import numpy as np\n",
    "import xgboost as xgb\n",
    "from sklearn.datasets import make_multilabel_classification\n",
    "from sklearn.model_selection import train_test_split\n",
    "from sklearn.multioutput import MultiOutputClassifier\n",
    "from sklearn.metrics import f1_score\n",
    "from sklearn.preprocessing import StandardScaler\n",
    "\n",
    "\n",
    "# create sample dataset\n",
    "# X, y = make_multilabel_classification(n_samples=11215, n_features=12, n_classes=4, n_labels=2,\n",
    "#                                       allow_unlabeled=False, random_state=0)\n",
    "# X = scaler.fit_transform(X)\n",
    "scaler = StandardScaler()\n",
    "df = pd.read_csv('./DF_edited.csv')\n",
    "df.drop(['Unnamed: 0'],axis=1,inplace=True)\n",
    "X=pd.DataFrame(scaler.fit_transform(pd.DataFrame(df.iloc[:,:-4].values.tolist())))\n",
    "Y=pd.DataFrame(df.iloc[:,-4:].values.tolist())\n",
    "\n",
    "# split dataset into training and test set\n",
    "X_train, X_test, y_train, y_test = train_test_split(X, Y, test_size=0.2, random_state=0)\n",
    "\n",
    "# create XGBoost instance with default hyper-parameters\n",
    "xgb_estimator = xgb.XGBClassifier(objective='binary:hinge',tree_method=\"hist\", learning_rate=0.1)\n",
    "\n",
    "# create MultiOutputClassifier instance with XGBoost model inside\n",
    "multilabel_model = MultiOutputClassifier(xgb_estimator,n_jobs=-1)\n",
    "\n",
    "# fit the model\n",
    "multilabel_model.fit(X_train, y_train)\n",
    "\n",
    "# evaluate on test data\n",
    "print('F1-Score on test data: {:.1f}%'.format(f1_score(y_test, multilabel_model.predict(X_test), average='samples', zero_division=np.nan)*100))"
   ]
  },
  {
   "cell_type": "code",
   "execution_count": 8,
   "metadata": {
    "scrolled": true
   },
   "outputs": [
    {
     "data": {
      "text/plain": [
       "{'estimator__objective': 'binary:hinge',\n",
       " 'estimator__use_label_encoder': None,\n",
       " 'estimator__base_score': None,\n",
       " 'estimator__booster': None,\n",
       " 'estimator__callbacks': None,\n",
       " 'estimator__colsample_bylevel': None,\n",
       " 'estimator__colsample_bynode': None,\n",
       " 'estimator__colsample_bytree': None,\n",
       " 'estimator__early_stopping_rounds': None,\n",
       " 'estimator__enable_categorical': False,\n",
       " 'estimator__eval_metric': None,\n",
       " 'estimator__feature_types': None,\n",
       " 'estimator__gamma': None,\n",
       " 'estimator__gpu_id': None,\n",
       " 'estimator__grow_policy': None,\n",
       " 'estimator__importance_type': None,\n",
       " 'estimator__interaction_constraints': None,\n",
       " 'estimator__learning_rate': 0.1,\n",
       " 'estimator__max_bin': None,\n",
       " 'estimator__max_cat_threshold': None,\n",
       " 'estimator__max_cat_to_onehot': None,\n",
       " 'estimator__max_delta_step': None,\n",
       " 'estimator__max_depth': None,\n",
       " 'estimator__max_leaves': None,\n",
       " 'estimator__min_child_weight': None,\n",
       " 'estimator__missing': nan,\n",
       " 'estimator__monotone_constraints': None,\n",
       " 'estimator__n_estimators': 100,\n",
       " 'estimator__n_jobs': None,\n",
       " 'estimator__num_parallel_tree': None,\n",
       " 'estimator__predictor': None,\n",
       " 'estimator__random_state': None,\n",
       " 'estimator__reg_alpha': None,\n",
       " 'estimator__reg_lambda': None,\n",
       " 'estimator__sampling_method': None,\n",
       " 'estimator__scale_pos_weight': None,\n",
       " 'estimator__subsample': None,\n",
       " 'estimator__tree_method': 'hist',\n",
       " 'estimator__validate_parameters': None,\n",
       " 'estimator__verbosity': None,\n",
       " 'estimator': XGBClassifier(base_score=None, booster=None, callbacks=None,\n",
       "               colsample_bylevel=None, colsample_bynode=None,\n",
       "               colsample_bytree=None, early_stopping_rounds=None,\n",
       "               enable_categorical=False, eval_metric=None, feature_types=None,\n",
       "               gamma=None, gpu_id=None, grow_policy=None, importance_type=None,\n",
       "               interaction_constraints=None, learning_rate=0.1, max_bin=None,\n",
       "               max_cat_threshold=None, max_cat_to_onehot=None,\n",
       "               max_delta_step=None, max_depth=None, max_leaves=None,\n",
       "               min_child_weight=None, missing=nan, monotone_constraints=None,\n",
       "               n_estimators=100, n_jobs=None, num_parallel_tree=None,\n",
       "               objective='binary:hinge', predictor=None, ...),\n",
       " 'n_jobs': -1}"
      ]
     },
     "execution_count": 8,
     "metadata": {},
     "output_type": "execute_result"
    }
   ],
   "source": [
    "multilabel_model.get_params()"
   ]
  },
  {
   "cell_type": "code",
   "execution_count": null,
   "metadata": {},
   "outputs": [],
   "source": []
  },
  {
   "cell_type": "markdown",
   "metadata": {},
   "source": [
    "### LightGBM with MultiOutputClassifier"
   ]
  },
  {
   "cell_type": "code",
   "execution_count": 5,
   "metadata": {},
   "outputs": [
    {
     "name": "stdout",
     "output_type": "stream",
     "text": [
      "F1-Score on test data: 83.9%\n"
     ]
    }
   ],
   "source": [
    "import pandas as pd\n",
    "import numpy as np\n",
    "import lightgbm as lgb\n",
    "from sklearn.datasets import make_multilabel_classification\n",
    "from sklearn.model_selection import train_test_split\n",
    "from sklearn.multioutput import MultiOutputClassifier\n",
    "from sklearn.metrics import f1_score\n",
    "from sklearn.preprocessing import StandardScaler\n",
    "\n",
    "\n",
    "# create sample dataset\n",
    "# X, y = make_multilabel_classification(n_samples=11215, n_features=12, n_classes=4, n_labels=2,\n",
    "#                                       allow_unlabeled=False, random_state=0)\n",
    "# X = scaler.fit_transform(X)\n",
    "scaler = StandardScaler()\n",
    "df = pd.read_csv('./DF_edited.csv')\n",
    "df.drop(['Unnamed: 0'],axis=1,inplace=True)\n",
    "X=pd.DataFrame(scaler.fit_transform(pd.DataFrame(df.iloc[:,:-4].values.tolist())))\n",
    "Y=pd.DataFrame(df.iloc[:,-4:].values.tolist())\n",
    "\n",
    "# split dataset into training and test set\n",
    "X_train, X_test, y_train, y_test = train_test_split(X, Y, test_size=0.2, random_state=0)\n",
    "\n",
    "# create XGBoost instance with default hyper-parameters\n",
    "lgb_estimator = lgb.LGBMClassifier(objective='binary')\n",
    "\n",
    "# create MultiOutputClassifier instance with XGBoost model inside\n",
    "multilabel_model = MultiOutputClassifier(lgb_estimator,n_jobs=-1)\n",
    "\n",
    "# fit the model\n",
    "multilabel_model.fit(X_train, y_train)\n",
    "\n",
    "# evaluate on test data\n",
    "print('F1-Score on test data: {:.1f}%'.format(f1_score(y_test, multilabel_model.predict(X_test), average='samples', zero_division=np.nan)*100))"
   ]
  },
  {
   "cell_type": "code",
   "execution_count": 6,
   "metadata": {},
   "outputs": [
    {
     "data": {
      "text/plain": [
       "{'estimator__boosting_type': 'gbdt',\n",
       " 'estimator__class_weight': None,\n",
       " 'estimator__colsample_bytree': 1.0,\n",
       " 'estimator__importance_type': 'split',\n",
       " 'estimator__learning_rate': 0.1,\n",
       " 'estimator__max_depth': -1,\n",
       " 'estimator__min_child_samples': 20,\n",
       " 'estimator__min_child_weight': 0.001,\n",
       " 'estimator__min_split_gain': 0.0,\n",
       " 'estimator__n_estimators': 100,\n",
       " 'estimator__n_jobs': None,\n",
       " 'estimator__num_leaves': 31,\n",
       " 'estimator__objective': 'binary',\n",
       " 'estimator__random_state': None,\n",
       " 'estimator__reg_alpha': 0.0,\n",
       " 'estimator__reg_lambda': 0.0,\n",
       " 'estimator__subsample': 1.0,\n",
       " 'estimator__subsample_for_bin': 200000,\n",
       " 'estimator__subsample_freq': 0,\n",
       " 'estimator': LGBMClassifier(objective='binary'),\n",
       " 'n_jobs': -1}"
      ]
     },
     "execution_count": 6,
     "metadata": {},
     "output_type": "execute_result"
    }
   ],
   "source": [
    "multilabel_model.get_params()"
   ]
  },
  {
   "cell_type": "code",
   "execution_count": null,
   "metadata": {},
   "outputs": [],
   "source": []
  },
  {
   "cell_type": "markdown",
   "metadata": {},
   "source": [
    "#### Samples per class (combination of values of each y-column)"
   ]
  },
  {
   "cell_type": "code",
   "execution_count": 4,
   "metadata": {
    "scrolled": true
   },
   "outputs": [
    {
     "name": "stdout",
     "output_type": "stream",
     "text": [
      "Class Combinations:\n",
      "['0 0 0 0', '0 0 0 1', '0 0 1 0', '0 0 1 1', '0 1 0 0', '0 1 0 1', '0 1 1 0', '0 1 1 1', '1 0 0 0', '1 0 0 1', '1 0 1 0', '1 0 1 1', '1 1 0 0', '1 1 0 1', '1 1 1 0', '1 1 1 1']\n",
      "\n",
      "\n",
      "Class:\t0 0 0 0\t\tSamples:\t5904\n",
      "Class:\t0 0 0 1\t\tSamples:\t535\n",
      "Class:\t0 0 1 0\t\tSamples:\t36\n",
      "Class:\t0 0 1 1\t\tSamples:\t55\n",
      "Class:\t0 1 0 0\t\tSamples:\t146\n",
      "Class:\t0 1 0 1\t\tSamples:\t9\n",
      "Class:\t0 1 1 0\t\tSamples:\t37\n",
      "Class:\t0 1 1 1\t\tSamples:\t15\n",
      "Class:\t1 0 0 0\t\tSamples:\t2219\n",
      "Class:\t1 0 0 1\t\tSamples:\t1160\n",
      "Class:\t1 0 1 0\t\tSamples:\t36\n",
      "Class:\t1 0 1 1\t\tSamples:\t165\n",
      "Class:\t1 1 0 0\t\tSamples:\t658\n",
      "Class:\t1 1 0 1\t\tSamples:\t117\n",
      "Class:\t1 1 1 0\t\tSamples:\t57\n",
      "Class:\t1 1 1 1\t\tSamples:\t68\n",
      "\n",
      "\n",
      "Net Sample Count11217\n"
     ]
    }
   ],
   "source": [
    "df = pd.read_csv('./DF_edited.csv')\n",
    "df.drop(['Unnamed: 0'],axis=1,inplace=True)\n",
    "s=0\n",
    "print(f\"Class Combinations:\\n{sorted(list(set([' '.join(list(map(str,item))) for item in df.iloc[:,-4:].values.tolist()])))}\")\n",
    "print()\n",
    "print()\n",
    "for i in sorted(list(set([' '.join(list(map(str,item))) for item in df.iloc[:,-4:].values.tolist()]))):\n",
    "    s+=[' '.join(list(map(str,item))) for item in df.iloc[:,-4:].values.tolist()].count(i)\n",
    "    print(f\"Class:\\t{i}\\t\\tSamples:\\t{[' '.join(list(map(str,item))) for item in df.iloc[:,-4:].values.tolist()].count(i)}\")\n",
    "\n",
    "print()\n",
    "print()\n",
    "print(f\"Net Sample Count{s}\")"
   ]
  },
  {
   "cell_type": "code",
   "execution_count": null,
   "metadata": {},
   "outputs": [],
   "source": []
  }
 ],
 "metadata": {
  "kernelspec": {
   "display_name": "Python 3 (ipykernel)",
   "language": "python",
   "name": "python3"
  },
  "language_info": {
   "codemirror_mode": {
    "name": "ipython",
    "version": 3
   },
   "file_extension": ".py",
   "mimetype": "text/x-python",
   "name": "python",
   "nbconvert_exporter": "python",
   "pygments_lexer": "ipython3",
   "version": "3.10.12"
  }
 },
 "nbformat": 4,
 "nbformat_minor": 4
}
