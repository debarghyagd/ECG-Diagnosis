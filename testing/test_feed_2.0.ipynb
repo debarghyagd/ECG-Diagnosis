{
 "cells": [
  {
   "cell_type": "code",
   "execution_count": null,
   "id": "66401b66",
   "metadata": {},
   "outputs": [
    {
     "name": "stdout",
     "output_type": "stream",
     "text": [
      " * Serving Flask app '__main__'\n",
      " * Debug mode: off\n"
     ]
    },
    {
     "name": "stderr",
     "output_type": "stream",
     "text": [
      "WARNING: This is a development server. Do not use it in a production deployment. Use a production WSGI server instead.\n",
      " * Running on http://127.0.0.1:8080\n",
      "Press CTRL+C to quit\n",
      "127.0.0.1 - - [27/Jun/2023 15:00:39] \"GET / HTTP/1.1\" 200 -\n",
      "127.0.0.1 - - [27/Jun/2023 15:00:45] \"GET / HTTP/1.1\" 200 -\n",
      "127.0.0.1 - - [27/Jun/2023 15:00:47] \"GET / HTTP/1.1\" 200 -\n",
      "127.0.0.1 - - [27/Jun/2023 15:00:50] \"GET / HTTP/1.1\" 200 -\n",
      "127.0.0.1 - - [27/Jun/2023 15:00:52] \"GET / HTTP/1.1\" 200 -\n",
      "127.0.0.1 - - [27/Jun/2023 16:28:45] \"GET / HTTP/1.1\" 200 -\n"
     ]
    }
   ],
   "source": [
    "import random\n",
    "from flask import Flask, jsonify\n",
    "\n",
    "app = Flask(__name__)\n",
    "\n",
    "@app.route('/', methods=['GET'])\n",
    "def handle_get_request():\n",
    "    # Handle the GET request\n",
    "    data = {'ok': [75.97590036468894, 86.98580872111783, 552.4224999322945, 33.287520094430775, 0.1016666666666666, 0.1005, 0.107, 0.1413333333333333, 0.1903333333333333, 0.3978333333333333, 0.7870909090909091, 76.23266457763836],\n",
    "    \t\t'mk': [18.31358453161634, 92.75545988821334, 276.5322266287332, 28.63428447044656, 0.0730769230769231, 0.1324285714285714, 0.0753846153846154, 0.1586153846153846, 0.1371428571428571, 0.3453846153846154, 0.6553846153846155, 95.66804172965703]}\n",
    "    choice = ['ok','mk'][random.randint(0, 1)]\n",
    "    response = {'message':data[choice]}\n",
    "\n",
    "    return jsonify(response)\n",
    "\n",
    "if __name__ == '__main__':\n",
    "    app.run(host='127.0.0.1', port='8080')\n"
   ]
  },
  {
   "cell_type": "code",
   "execution_count": null,
   "id": "f760b062",
   "metadata": {},
   "outputs": [],
   "source": []
  }
 ],
 "metadata": {
  "kernelspec": {
   "display_name": "Python 3 (ipykernel)",
   "language": "python",
   "name": "python3"
  },
  "language_info": {
   "codemirror_mode": {
    "name": "ipython",
    "version": 3
   },
   "file_extension": ".py",
   "mimetype": "text/x-python",
   "name": "python",
   "nbconvert_exporter": "python",
   "pygments_lexer": "ipython3",
   "version": "3.10.0"
  }
 },
 "nbformat": 4,
 "nbformat_minor": 5
}
